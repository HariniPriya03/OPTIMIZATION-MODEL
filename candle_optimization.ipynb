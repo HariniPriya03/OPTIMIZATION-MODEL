{
 "cells": [
  {
   "cell_type": "markdown",
   "id": "abc5485e",
   "metadata": {},
   "source": [
    "#  Candle Production Optimization - Linear Programming with PuLP\n",
    "\n",
    "##  Problem Setup\n",
    "\n",
    "A small candle-making business produces **two types of candles**:\n",
    "\n",
    "- **Scented Candles**\n",
    "- **Unscented Candles**\n",
    "\n",
    "Each candle consumes **wax** and **labor hours**, both of which are limited. The business wants to **maximize profit** by deciding how many of each type to produce, within these resource constraints.\n",
    "\n",
    "###  Given:\n",
    "\n",
    "- **Profit:**\n",
    "  - Scented = ₹5\n",
    "  - Unscented = ₹3\n",
    "- **Wax requirement:**\n",
    "  - Scented = 3 units\n",
    "  - Unscented = 2 units\n",
    "- **Labor requirement:**\n",
    "  - Scented = 2 hours\n",
    "  - Unscented = 1 hour\n",
    "- **Available Resources:**\n",
    "  - 60 units of wax\n",
    "  - 40 hours of labor\n",
    "\n",
    "The objective is to determine the **optimal number of scented and unscented candles** to produce in order to **maximize total profit**.\n"
   ]
  },
  {
   "cell_type": "code",
   "execution_count": 2,
   "id": "b7c206de",
   "metadata": {},
   "outputs": [
    {
     "name": "stdout",
     "output_type": "stream",
     "text": [
      "Status: Optimal\n",
      "Optimal Scented Candles: 20.0\n",
      "Optimal Unscented Candles: 0.0\n",
      "Maximum Profit: ₹ 100.0\n"
     ]
    }
   ],
   "source": [
    "from pulp import LpMaximize, LpProblem, LpVariable, value, LpStatus\n",
    "\n",
    "# Define the LP problem\n",
    "model = LpProblem(\"Candle_Profit_Maximization\", LpMaximize)\n",
    "\n",
    "# Decision Variables\n",
    "x = LpVariable(\"Scented_Candles\", lowBound=0, cat='Integer')\n",
    "y = LpVariable(\"Unscented_Candles\", lowBound=0, cat='Integer')\n",
    "\n",
    "# Objective Function\n",
    "model += 5 * x + 3 * y, \"Total_Profit\"\n",
    "\n",
    "# Constraints\n",
    "model += 3 * x + 2 * y <= 60, \"Wax_Constraint\"\n",
    "model += 2 * x + 1 * y <= 40, \"Labor_Constraint\"\n",
    "\n",
    "# Solve the Model\n",
    "model.solve()\n",
    "\n",
    "# Output Results\n",
    "print(\"Status:\", LpStatus[model.status])\n",
    "print(\"Optimal Scented Candles:\", x.varValue)\n",
    "print(\"Optimal Unscented Candles:\", y.varValue)\n",
    "print(\"Maximum Profit: ₹\", value(model.objective))\n"
   ]
  },
  {
   "cell_type": "markdown",
   "id": "f9359009",
   "metadata": {},
   "source": [
    "##  Insights\n",
    "\n",
    "- **Resource Allocation:** The solution shows how you can strategically allocate limited resources like raw materials and labor to maximize profit.\n",
    "- **Scalability:** This method can be extended to more products and constraints easily.\n",
    "- **Business Use:** Small businesses can make data-driven production decisions using such models.\n",
    "- **Optimization Tip:** Real-world problems may include more constraints like storage or demand limits.\n"
   ]
  }
 ],
 "metadata": {
  "kernelspec": {
   "display_name": "Python 3",
   "language": "python",
   "name": "python3"
  },
  "language_info": {
   "codemirror_mode": {
    "name": "ipython",
    "version": 3
   },
   "file_extension": ".py",
   "mimetype": "text/x-python",
   "name": "python",
   "nbconvert_exporter": "python",
   "pygments_lexer": "ipython3",
   "version": "3.11.9"
  }
 },
 "nbformat": 4,
 "nbformat_minor": 5
}
