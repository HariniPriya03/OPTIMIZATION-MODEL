# 🕯️ Candle Production Optimization - Linear Programming with PuLP

## 🧩 Problem Setup

A small candle-making business produces **two types of candles**:

- **Scented Candles**
- **Unscented Candles**

Each candle consumes **wax** and **labor hours**, both of which are limited. The business wants to **maximize profit** by deciding how many of each type to produce, within these resource constraints.

### 🔍 Given:

- **Profit:**
  - Scented = ₹5
  - Unscented = ₹3
- **Wax requirement:**
  - Scented = 3 units
  - Unscented = 2 units
- **Labor requirement:**
  - Scented = 2 hours
  - Unscented = 1 hour
- **Available Resources:**
  - 60 units of wax
  - 40 hours of labor

The objective is to determine the **optimal number of scented and unscented candles** to produce in order to **maximize total profit**.

---

  # 📦 Import PuLP for Linear Programming
from pulp import LpMaximize, LpProblem, LpVariable, value, LpStatus

# 🧮 Define the LP problem
model = LpProblem("Candle_Profit_Maximization", LpMaximize)

# 📌 Decision Variables
x = LpVariable("Scented_Candles", lowBound=0, cat='Integer')
y = LpVariable("Unscented_Candles", lowBound=0, cat='Integer')

# 💰 Objective Function
model += 5 * x + 3 * y, "Total_Profit"

# ✅ Constraints
model += 3 * x + 2 * y <= 60, "Wax_Constraint"
model += 2 * x + 1 * y <= 40, "Labor_Constraint"

# 🚀 Solve the Model
model.solve()

# 📤 Output Results
print("✅ Status:", LpStatus[model.status])
print("🕯️ Optimal Scented Candles:", x.varValue)
print("🕯️ Optimal Unscented Candles:", y.varValue)
print("💵 Maximum Profit: ₹", value(model.objective))

---
## 📊 Solution & Output

Based on the above model, the optimal solution is:

- **Scented Candles:** `x.varValue`
- **Unscented Candles:** `y.varValue`
- **Maximum Profit:** `₹value(model.objective)`

PuLP determines this combination to be the best way to use the available wax and labor resources to maximize profit.

---

## 💡 Insights

- **Resource Allocation:** The solution shows how you can strategically allocate limited resources like raw materials and labor to get the most financial benefit.
- **Scalability:** This approach can easily be extended to more products and constraints (e.g., adding colored candles, new raw material limits, cost changes).
- **Business Use:** Small businesses can benefit from these kinds of linear programming models to make data-driven production decisions.
- **Optimization Tip:** In real-world scenarios, you could also consider storage capacity, packaging costs, or demand limits for each candle type.

---

## 🛠️ How to Run This Project

1. Make sure Python is installed.
2. Install `PuLP` if not already:

   ```bash
   pip install pulp
